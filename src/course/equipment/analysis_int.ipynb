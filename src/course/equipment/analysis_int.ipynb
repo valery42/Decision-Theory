{
 "cells": [
  {
   "cell_type": "code",
   "execution_count": 29,
   "id": "4419100d",
   "metadata": {},
   "outputs": [
    {
     "name": "stdout",
     "output_type": "stream",
     "text": [
      "Status:  optimal\n",
      "x = \n",
      " [ 0.00e+00]\n",
      "[ 1.40e+01]\n",
      "[ 0.00e+00]\n",
      "[ 0.00e+00]\n",
      "[ 1.00e+00]\n",
      "\n"
     ]
    }
   ],
   "source": [
    "from cvxopt import matrix, glpk\n",
    "\n",
    "c = matrix([-1000, -2100, -900, -1800, -2000], tc='d')\n",
    "\n",
    "G = matrix([[34, 57, 32, 59, 53],\n",
    "            [26, 19, 28, 22, 24],\n",
    "            [-1,  0,  0,  0,  0],\n",
    "            [ 0, -1,  0,  0,  0],\n",
    "            [ 0,  0, -1,  0,  0],\n",
    "            [ 0,  0,  0, -1,  0],\n",
    "            [ 0,  0,  0,  0, -1]], tc='d')\n",
    "\n",
    "R = 853\n",
    "S = 290\n",
    "\n",
    "h = matrix([R, S, 0, 0, 0, 0, 0], tc='d')\n",
    "(status, x) = glpk.ilp(c, G.T, h, I=set(range(5)))\n",
    "\n",
    "print('Status: ', status)\n",
    "print('x = \\n', x)"
   ]
  }
 ],
 "metadata": {
  "kernelspec": {
   "display_name": "Python 3",
   "language": "python",
   "name": "python3"
  },
  "language_info": {
   "codemirror_mode": {
    "name": "ipython",
    "version": 3
   },
   "file_extension": ".py",
   "mimetype": "text/x-python",
   "name": "python",
   "nbconvert_exporter": "python",
   "pygments_lexer": "ipython3",
   "version": "3.6.9"
  }
 },
 "nbformat": 4,
 "nbformat_minor": 5
}
