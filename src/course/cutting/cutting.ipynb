{
 "cells": [
  {
   "cell_type": "code",
   "execution_count": 6,
   "id": "68333273",
   "metadata": {},
   "outputs": [
    {
     "name": "stdout",
     "output_type": "stream",
     "text": [
      "Status optimal\n",
      "x = \n",
      " [ 4.20e+01]\n",
      "[ 6.30e+01]\n",
      "[ 0.00e+00]\n",
      "[ 2.10e+01]\n",
      "\n",
      "Objective: 21.0\n"
     ]
    }
   ],
   "source": [
    "from cvxopt import matrix, solvers\n",
    "\n",
    "c = matrix([0, 0, 0, -1], tc='d')\n",
    "\n",
    "G = matrix([[-1,  0,  0,  0],\n",
    "            [ 0, -1,  0,  0],\n",
    "            [ 0,  0, -1,  0],\n",
    "            [ 0,  0,  0, -1],\n",
    "            [ 1,  1,  1,  0]], tc='d')\n",
    "\n",
    "h = matrix([0, 0, 0, 0, 105], tc='d')\n",
    "\n",
    "A = matrix([[ 1,  0,  0, -2],\n",
    "            [ 0,  1,  0, -3]], tc='d')\n",
    "\n",
    "b = matrix([0, 0], tc='d')\n",
    "\n",
    "solution = solvers.lp(c, G.T, h, A.T, b, solver='glpk')\n",
    "print('Status', solution['status'])\n",
    "print('x = \\n', solution['x'])\n",
    "print('Objective:', -solution['primal objective'])"
   ]
  },
  {
   "cell_type": "code",
   "execution_count": 7,
   "id": "26e57b65",
   "metadata": {},
   "outputs": [
    {
     "name": "stdout",
     "output_type": "stream",
     "text": [
      "Status optimal\n",
      "x = \n",
      " [ 4.20e+01]\n",
      "[ 6.30e+01]\n",
      "[-2.84e-15]\n",
      "[ 0.00e+00]\n",
      "[ 0.00e+00]\n",
      "[ 4.20e+01]\n",
      "\n",
      "Objective: 6300.0\n"
     ]
    }
   ],
   "source": [
    "from cvxopt import matrix, solvers\n",
    "\n",
    "c = matrix([0, 40, 0, 450, 230, 90], tc='d')\n",
    "\n",
    "G = matrix([[-1,  0,  0,  0,  0,  0],\n",
    "            [ 0, -1,  0,  0,  0,  0],\n",
    "            [ 0,  0, -1,  0,  0,  0],\n",
    "            [ 0,  0,  0, -1,  0,  0],\n",
    "            [ 0,  0,  0,  0, -1,  0],\n",
    "            [ 0,  0,  0,  0,  0, -1]], tc='d')\n",
    "\n",
    "h = matrix([0, 0, 0, 0, 0, 0], tc='d')\n",
    "A = matrix([[ 1,  0,  0, -1,  0,  0],\n",
    "            [ 0,  1,  0,  0, -1,  0],\n",
    "            [ 0,  2,  5,  0,  0, -1]], tc='d')\n",
    "\n",
    "b = matrix([42, 63, 84], tc='d')\n",
    "solution = solvers.lp(c, G.T, h, A.T, b, solver='glpk')\n",
    "print('Status', solution['status'])\n",
    "print('x = \\n', solution['x'])\n",
    "print('Objective:', solution['primal objective'])"
   ]
  }
 ],
 "metadata": {
  "kernelspec": {
   "display_name": "Python 3",
   "language": "python",
   "name": "python3"
  },
  "language_info": {
   "codemirror_mode": {
    "name": "ipython",
    "version": 3
   },
   "file_extension": ".py",
   "mimetype": "text/x-python",
   "name": "python",
   "nbconvert_exporter": "python",
   "pygments_lexer": "ipython3",
   "version": "3.6.9"
  }
 },
 "nbformat": 4,
 "nbformat_minor": 5
}
